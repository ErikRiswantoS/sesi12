{
 "cells": [
  {
   "cell_type": "code",
   "execution_count": null,
   "id": "5539e9f6",
   "metadata": {},
   "outputs": [],
   "source": [
    "kapital = 'ABCDEFGHIJKLMNOPQRSTUVWXYZ'\n",
    "\n",
    "def kapitalCount(text):\n",
    "  kap = 0\n",
    "\n",
    "  for char in text:\n",
    "    if char in kapital:\n",
    "      kap += 1\n",
    "\n",
    "  return kap"
   ]
  }
 ],
 "metadata": {
  "kernelspec": {
   "display_name": "Python 3 (ipykernel)",
   "language": "python",
   "name": "python3"
  },
  "language_info": {
   "codemirror_mode": {
    "name": "ipython",
    "version": 3
   },
   "file_extension": ".py",
   "mimetype": "text/x-python",
   "name": "python",
   "nbconvert_exporter": "python",
   "pygments_lexer": "ipython3",
   "version": "3.9.13"
  }
 },
 "nbformat": 4,
 "nbformat_minor": 5
}
